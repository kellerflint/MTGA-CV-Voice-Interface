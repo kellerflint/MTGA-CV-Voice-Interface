{
 "cells": [
  {
   "cell_type": "markdown",
   "metadata": {},
   "source": [
    "# Data Collection"
   ]
  },
  {
   "cell_type": "markdown",
   "metadata": {},
   "source": [
    "## Game Screenshots\n",
    "\n",
    "Took regular screenshots as I played to construct the dataset."
   ]
  },
  {
   "cell_type": "code",
   "execution_count": null,
   "metadata": {},
   "outputs": [],
   "source": [
    "import pyautogui\n",
    "import time\n",
    "\n",
    "img_number = 1\n",
    "\n",
    "while True:\n",
    "    screenshot = pyautogui.screenshot()\n",
    "    filename = f\"z_screen_{img_number}.png\"\n",
    "    screenshot.save(filename)\n",
    "    print(f\"Image saved as {filename}\")\n",
    "    img_number += 1\n",
    "    time.sleep(5)"
   ]
  },
  {
   "cell_type": "markdown",
   "metadata": {},
   "source": [
    "## Name Fixer\n",
    "\n",
    "Fixes file names so I can extend the test data in a new session of taking screenshots. GPT wrote most of this function."
   ]
  },
  {
   "cell_type": "code",
   "execution_count": null,
   "metadata": {},
   "outputs": [],
   "source": [
    "import os\n",
    "import shutil\n",
    "\n",
    "# Function to modify file names\n",
    "def update_image_file_names(directory, prefix, increment):\n",
    "    \"\"\"\n",
    "    Loop through image files with a specific prefix, modify their number suffix, \n",
    "    and save them with a new name while deleting the old ones.\n",
    "\n",
    "    Args:\n",
    "        directory (str): Path to the directory containing the image files.\n",
    "        prefix (str): Prefix to identify target image files.\n",
    "        increment (int): Number to add to the numeric suffix of the files.\n",
    "    \"\"\"\n",
    "    for file_name in os.listdir(directory):\n",
    "        # Check if file starts with the prefix and ends with '_#.png'\n",
    "        if file_name.startswith(prefix) and file_name.endswith(\".png\"):\n",
    "            parts = file_name.rsplit(\"_\", 1)  # Split into base and number\n",
    "            if len(parts) == 2 and parts[1][:-4].isdigit():  # Check numeric suffix\n",
    "                print(f\"Processing {file_name}...\")\n",
    "                number_part = int(parts[1][:-4])  # Extract numeric part\n",
    "                new_number = number_part + increment  # Add increment\n",
    "\n",
    "                # Generate new file name\n",
    "                new_file_name = f\"{parts[0]}_{new_number}.png\"\n",
    "\n",
    "                # Paths for renaming\n",
    "                old_file_path = os.path.join(directory, file_name)\n",
    "                new_file_path = os.path.join(directory, new_file_name)\n",
    "\n",
    "                # Rename the file (delete old one)\n",
    "                shutil.move(old_file_path, new_file_path)\n",
    "                print(f\"Renamed {file_name} to {new_file_name}\")\n",
    "\n",
    "# Parameters\n",
    "directory_path = \".\"  # Update to your directory path\n",
    "file_prefix = \"z_screen\"  # Replace with your file prefix\n",
    "number_increment = 438   # Set the increment value\n",
    "\n",
    "# Call the function\n",
    "update_image_file_names(directory_path, file_prefix, number_increment)\n"
   ]
  }
 ],
 "metadata": {
  "language_info": {
   "name": "python"
  }
 },
 "nbformat": 4,
 "nbformat_minor": 2
}
