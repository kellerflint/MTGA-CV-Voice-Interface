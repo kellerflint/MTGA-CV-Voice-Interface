{
 "cells": [
  {
   "cell_type": "markdown",
   "metadata": {},
   "source": [
    "# YOLO Model Training and Evaluation"
   ]
  },
  {
   "cell_type": "markdown",
   "metadata": {},
   "source": [
    "## Setup"
   ]
  },
  {
   "cell_type": "code",
   "execution_count": null,
   "metadata": {},
   "outputs": [],
   "source": [
    "from ultralytics import YOLO\n",
    "import cv2\n",
    "import numpy as np\n",
    "from mss import mss"
   ]
  },
  {
   "cell_type": "code",
   "execution_count": null,
   "metadata": {},
   "outputs": [],
   "source": [
    "base_model = \"yolo11s.pt\"\n",
    "dataset_path=\"train_40/dataset.yaml\"\n",
    "tuned_model = \"yolo11s_tuned.pt\""
   ]
  },
  {
   "cell_type": "markdown",
   "metadata": {},
   "source": [
    "## Training"
   ]
  },
  {
   "cell_type": "code",
   "execution_count": null,
   "metadata": {},
   "outputs": [],
   "source": [
    "model = YOLO(base_model)\n",
    "\n",
    "# Train on annotated dataset\n",
    "model.train(\n",
    "    data=dataset_path, \n",
    "    epochs=200,\n",
    "    augment=True,\n",
    "    mosaic=True,\n",
    "    hsv_h=0.015,\n",
    "    hsv_s=0.7,\n",
    "    hsv_v=0.2,\n",
    "    scale=0.5,\n",
    "    fliplr=0.25\n",
    ")\n",
    "\n",
    "# Save the improved model\n",
    "model.save(tuned_model)"
   ]
  },
  {
   "cell_type": "markdown",
   "metadata": {},
   "source": [
    "## Live Labeling"
   ]
  },
  {
   "cell_type": "code",
   "execution_count": null,
   "metadata": {},
   "outputs": [],
   "source": [
    "def process_frame(model, frame):\n",
    "    img = cv2.cvtColor(np.array(frame), cv2.COLOR_BGRA2BGR)\n",
    "    \n",
    "    # Run inference\n",
    "    results = model.predict(img, conf=0.5)\n",
    "\n",
    "    # Draw bounding boxes\n",
    "    for box in results[0].boxes:\n",
    "        x_min, y_min, x_max, y_max = map(int, box.xyxy[0].tolist())\n",
    "        class_id = int(box.cls[0])\n",
    "        confidence = float(box.conf[0])\n",
    "\n",
    "        # Draw rectangle\n",
    "        cv2.rectangle(img, (x_min, y_min), (x_max, y_max), (0, 255, 0), 2)\n",
    "\n",
    "        # Draw label\n",
    "        label = f\"{model.names[class_id]} {confidence:.2f}\"\n",
    "        cv2.putText(img, label, (x_min, y_min - 10), cv2.FONT_HERSHEY_SIMPLEX, 0.5, (0, 255, 0), 2)\n",
    "\n",
    "    return img\n",
    "\n",
    "def live_labeling():\n",
    "    model = YOLO(tuned_model)\n",
    "\n",
    "    # Screen capture configuration\n",
    "    monitor = {\"top\": 0, \"left\": 0, \"width\": 1920, \"height\": 1080}\n",
    "    sct = mss()\n",
    "\n",
    "    cv2.namedWindow(\"Live Labels\", cv2.WINDOW_NORMAL)\n",
    "    cv2.resizeWindow(\"Live Labels\", 960, 540)\n",
    "\n",
    "    while True:\n",
    "        # Capture screen\n",
    "        screen = sct.grab(monitor)\n",
    "        \n",
    "        # Process frame\n",
    "        labeled_frame = process_frame(model, screen)\n",
    "\n",
    "        # Display labeled frame\n",
    "        cv2.imshow(\"Live Labels\", labeled_frame)\n",
    "\n",
    "        # Exit\n",
    "        if cv2.waitKey(1) & 0xFF == ord(\"q\"):\n",
    "            break\n",
    "\n",
    "    # Cleanup\n",
    "    cv2.destroyAllWindows()\n",
    "\n",
    "live_labeling()"
   ]
  }
 ],
 "metadata": {
  "language_info": {
   "name": "python"
  }
 },
 "nbformat": 4,
 "nbformat_minor": 2
}
